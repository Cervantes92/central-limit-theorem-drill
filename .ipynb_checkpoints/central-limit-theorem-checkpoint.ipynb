{
 "cells": [
  {
   "cell_type": "markdown",
   "metadata": {},
   "source": [
    "<h1></h1>"
   ]
  },
  {
   "cell_type": "markdown",
   "metadata": {},
   "source": [
    "<h1>Exploration of the Central Limit Theorem</h1>\n",
    "<p>In this example we will first generate two large populations and from them randomly select a group of measurements to be our samples.</p>"
   ]
  },
  {
   "cell_type": "code",
   "execution_count": 48,
   "metadata": {},
   "outputs": [
    {
     "name": "stdout",
     "output_type": "stream",
     "text": [
      "Population 1 mean:  1.9876 \n",
      "Population 1 STD:  1.58018778631 \n",
      "Population 2 mean:  5.0284 \n",
      "Population 2 STD:  1.58018778631\n",
      "\n",
      "\n",
      "Mean of Sample 1:  2.07 \n",
      "STD of Sample 1:  1.38747972958 \n",
      "Mean of Sample 2:  4.93 \n",
      "STD of Sample 2:  1.55727325797\n"
     ]
    }
   ],
   "source": [
    "import numpy as np\n",
    "import matplotlib.pyplot as plt\n",
    "from scipy.stats import ttest_ind\n",
    "%matplotlib inline\n",
    "\n",
    "#Generate populations\n",
    "pop1 = np.random.binomial(10, 0.2, 10000)\n",
    "pop2 = np.random.binomial(10, 0.5, 10000)\n",
    "print('Population 1 mean: ', pop1.mean(), '\\nPopulation 1 STD: ', pop2.std(),\n",
    "     '\\nPopulation 2 mean: ', pop2.mean(), '\\nPopulation 2 STD: ', pop2.std())\n",
    "\n",
    "print('\\n')\n",
    "\n",
    "#Generate samples\n",
    "samp1 = np.random.choice(pop1, 100, replace = True)\n",
    "samp2 = np.random.choice(pop2, 100, replace = True)\n",
    "\n",
    "def find_mean_std(samp1, samp2):\n",
    "    mean1 = samp1.mean()\n",
    "    mean2 = samp2.mean()\n",
    "    std1 = samp1.std()\n",
    "    std2 = samp2.std()\n",
    "    return [mean1, std1, mean2, std2]\n",
    "\n",
    "stats1 = find_mean_std(samp1, samp2)\n",
    "\n",
    "def print_stats(stats):\n",
    "    print('Mean of Sample 1: ', stats[0], '\\nSTD of Sample 1: ', stats[1], \n",
    "          '\\nMean of Sample 2: ', stats[2], '\\nSTD of Sample 2: ', stats[3])\n",
    "\n",
    "print_stats(stats1)   "
   ]
  },
  {
   "cell_type": "markdown",
   "metadata": {},
   "source": [
    "<p>As you can see, we have the mean and standard deviation of both of our samples. We are interested in seeing how the mean and standard deviation change when we increase our sample size.</p>"
   ]
  },
  {
   "cell_type": "code",
   "execution_count": 49,
   "metadata": {},
   "outputs": [
    {
     "name": "stdout",
     "output_type": "stream",
     "text": [
      "Mean of Sample 1:  1.986 \n",
      "STD of Sample 1:  1.22711205682 \n",
      "Mean of Sample 2:  5.112 \n",
      "STD of Sample 2:  1.6073132862\n"
     ]
    }
   ],
   "source": [
    "samp3 = np.random.choice(pop1, 1000, replace = True)\n",
    "samp4 = np.random.choice(pop2, 1000, replace = True)\n",
    "\n",
    "stats2 = find_mean_std(samp3, samp4)\n",
    "print_stats(stats2)"
   ]
  },
  {
   "cell_type": "markdown",
   "metadata": {},
   "source": [
    "<p>With a larger sample size, we would expect the mean and standard deviation to more accurately reflect the mean and standard deviation of our population, and as we can see by the demonstration, this appears to be the case.</p>\n",
    "\n",
    "<p>We shall now see what happens when we change the probability values for our binomail distributions. In particular, how they change the t-values and p-values of our samples.</p>"
   ]
  },
  {
   "cell_type": "code",
   "execution_count": 50,
   "metadata": {},
   "outputs": [
    {
     "name": "stdout",
     "output_type": "stream",
     "text": [
      "Ttest_indResult(statistic=30.740276217957586, pvalue=4.4200431600929489e-170)\n"
     ]
    }
   ],
   "source": [
    "pop1 = np.random.binomial(10, 0.3, 10000)\n",
    "\n",
    "samp1 = np.random.choice(pop1, 1000, replace = True)\n",
    "samp2 = np.random.choice(pop2, 1000, replace = True)\n",
    "\n",
    "print(ttest_ind(samp2, samp1, equal_var = False))"
   ]
  },
  {
   "cell_type": "code",
   "execution_count": 51,
   "metadata": {},
   "outputs": [
    {
     "name": "stdout",
     "output_type": "stream",
     "text": [
      "Ttest_indResult(statistic=14.587869231730021, pvalue=7.0339364818910911e-46)\n"
     ]
    }
   ],
   "source": [
    "pop2 = np.random.binomial(10, 0.4, 10000)\n",
    "\n",
    "samp1 = np.random.choice(pop1, 1000, replace = True)\n",
    "samp2 = np.random.choice(pop2, 1000, replace = True)\n",
    "\n",
    "print(ttest_ind(samp2, samp1, equal_var = False))"
   ]
  },
  {
   "cell_type": "markdown",
   "metadata": {},
   "source": [
    "<p>As we can see, when we change the properties of the population distributions to be marginally more similar, the change is reflected exponentially in the p-values of their samples. Note how the p-value for the second set of samples is dozens of orders of magnitudes larger than the p-value for the first set of samples.</p>\n",
    "\n",
    "<p>We shall now make observations on a different distribution.</p>"
   ]
  },
  {
   "cell_type": "code",
   "execution_count": 52,
   "metadata": {},
   "outputs": [
    {
     "name": "stdout",
     "output_type": "stream",
     "text": [
      "Population stats: \n",
      "Population 1 mean:  66.3667995385 \n",
      "Population 1 STD:  126.441365497 \n",
      "Population 2 mean:  66.2364186906 \n",
      "Population 2 STD:  126.441365497\n",
      "\n",
      "\n",
      "Small Sample Size: \n",
      "Mean of Sample 1:  55.6352760041 \n",
      "STD of Sample 1:  122.52811921 \n",
      "Mean of Sample 2:  65.1470438348 \n",
      "STD of Sample 2:  119.944841151\n",
      "\n",
      "\n",
      "Large Sample Size: \n",
      "Mean of Sample 1:  69.6410158674 \n",
      "STD of Sample 1:  128.038406723 \n",
      "Mean of Sample 2:  65.3023133865 \n",
      "STD of Sample 2:  123.53205235\n"
     ]
    }
   ],
   "source": [
    "#Gumbel distribution is built differently (loc, scale, size)\n",
    "pop1 = np.random.gumbel(10, 100, 10000)\n",
    "pop2 = np.random.gumbel(10, 100, 10000)\n",
    "\n",
    "print('Population stats: ')\n",
    "print('Population 1 mean: ', pop1.mean(), '\\nPopulation 1 STD: ', pop2.std(),\n",
    "     '\\nPopulation 2 mean: ', pop2.mean(), '\\nPopulation 2 STD: ', pop2.std())\n",
    "print('\\n')\n",
    "\n",
    "#Small Sample Size\n",
    "samp1 = np.random.choice(pop1, 100, replace = True)\n",
    "samp2 = np.random.choice(pop2, 100, replace = True)\n",
    "\n",
    "print('Small Sample Size: ')\n",
    "stats1 = find_mean_std(samp1, samp2)\n",
    "print_stats(stats1)\n",
    "print('\\n')\n",
    "\n",
    "#Large Sample Size\n",
    "samp3 = np.random.choice(pop1, 1000, replace = True)\n",
    "samp4 = np.random.choice(pop2, 1000, replace = True)\n",
    "\n",
    "print('Large Sample Size: ')\n",
    "stats2 = find_mean_std(samp3, samp4)\n",
    "print_stats(stats2)\n",
    "\n",
    "\n"
   ]
  },
  {
   "cell_type": "markdown",
   "metadata": {},
   "source": [
    "<p>As we can see, the sample mean and std accurately reflect the population mean and standard deviation regardless of the distribution used. And the accuracy of these representations are proportional to the sample sizes.</p>"
   ]
  }
 ],
 "metadata": {
  "kernelspec": {
   "display_name": "Python 3",
   "language": "python",
   "name": "python3"
  },
  "language_info": {
   "codemirror_mode": {
    "name": "ipython",
    "version": 3
   },
   "file_extension": ".py",
   "mimetype": "text/x-python",
   "name": "python",
   "nbconvert_exporter": "python",
   "pygments_lexer": "ipython3",
   "version": "3.6.6"
  }
 },
 "nbformat": 4,
 "nbformat_minor": 2
}
